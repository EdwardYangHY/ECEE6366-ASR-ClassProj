{
 "cells": [
  {
   "cell_type": "code",
   "execution_count": 2,
   "id": "7272ce21",
   "metadata": {},
   "outputs": [],
   "source": [
    "from IPython.display import Video\n",
    "import pandas as pd\n",
    "import os"
   ]
  },
  {
   "cell_type": "code",
   "execution_count": 3,
   "id": "9ff19661",
   "metadata": {
    "scrolled": true
   },
   "outputs": [
    {
     "name": "stdout",
     "output_type": "stream",
     "text": [
      "Requirement already satisfied: ipywidgets in /home/lxj220018/anaconda3/lib/python3.11/site-packages (8.0.4)\n",
      "Requirement already satisfied: ipykernel>=4.5.1 in /home/lxj220018/anaconda3/lib/python3.11/site-packages (from ipywidgets) (6.19.2)\n",
      "Requirement already satisfied: ipython>=6.1.0 in /home/lxj220018/anaconda3/lib/python3.11/site-packages (from ipywidgets) (8.12.0)\n",
      "Requirement already satisfied: traitlets>=4.3.1 in /home/lxj220018/anaconda3/lib/python3.11/site-packages (from ipywidgets) (5.7.1)\n",
      "Requirement already satisfied: widgetsnbextension~=4.0 in /home/lxj220018/anaconda3/lib/python3.11/site-packages (from ipywidgets) (4.0.5)\n",
      "Requirement already satisfied: jupyterlab-widgets~=3.0 in /home/lxj220018/anaconda3/lib/python3.11/site-packages (from ipywidgets) (3.0.5)\n",
      "Requirement already satisfied: comm>=0.1.1 in /home/lxj220018/anaconda3/lib/python3.11/site-packages (from ipykernel>=4.5.1->ipywidgets) (0.1.2)\n",
      "Requirement already satisfied: debugpy>=1.0 in /home/lxj220018/anaconda3/lib/python3.11/site-packages (from ipykernel>=4.5.1->ipywidgets) (1.6.7)\n",
      "Requirement already satisfied: jupyter-client>=6.1.12 in /home/lxj220018/anaconda3/lib/python3.11/site-packages (from ipykernel>=4.5.1->ipywidgets) (7.4.9)\n",
      "Requirement already satisfied: matplotlib-inline>=0.1 in /home/lxj220018/anaconda3/lib/python3.11/site-packages (from ipykernel>=4.5.1->ipywidgets) (0.1.6)\n",
      "Requirement already satisfied: nest-asyncio in /home/lxj220018/anaconda3/lib/python3.11/site-packages (from ipykernel>=4.5.1->ipywidgets) (1.5.6)\n",
      "Requirement already satisfied: packaging in /home/lxj220018/anaconda3/lib/python3.11/site-packages (from ipykernel>=4.5.1->ipywidgets) (23.0)\n",
      "Requirement already satisfied: psutil in /home/lxj220018/anaconda3/lib/python3.11/site-packages (from ipykernel>=4.5.1->ipywidgets) (5.9.0)\n",
      "Requirement already satisfied: pyzmq>=17 in /home/lxj220018/anaconda3/lib/python3.11/site-packages (from ipykernel>=4.5.1->ipywidgets) (23.2.0)\n",
      "Requirement already satisfied: tornado>=6.1 in /home/lxj220018/anaconda3/lib/python3.11/site-packages (from ipykernel>=4.5.1->ipywidgets) (6.3.2)\n",
      "Requirement already satisfied: backcall in /home/lxj220018/anaconda3/lib/python3.11/site-packages (from ipython>=6.1.0->ipywidgets) (0.2.0)\n",
      "Requirement already satisfied: decorator in /home/lxj220018/anaconda3/lib/python3.11/site-packages (from ipython>=6.1.0->ipywidgets) (5.1.1)\n",
      "Requirement already satisfied: jedi>=0.16 in /home/lxj220018/anaconda3/lib/python3.11/site-packages (from ipython>=6.1.0->ipywidgets) (0.18.1)\n",
      "Requirement already satisfied: pickleshare in /home/lxj220018/anaconda3/lib/python3.11/site-packages (from ipython>=6.1.0->ipywidgets) (0.7.5)\n",
      "Requirement already satisfied: prompt-toolkit!=3.0.37,<3.1.0,>=3.0.30 in /home/lxj220018/anaconda3/lib/python3.11/site-packages (from ipython>=6.1.0->ipywidgets) (3.0.36)\n",
      "Requirement already satisfied: pygments>=2.4.0 in /home/lxj220018/anaconda3/lib/python3.11/site-packages (from ipython>=6.1.0->ipywidgets) (2.15.1)\n",
      "Requirement already satisfied: stack-data in /home/lxj220018/anaconda3/lib/python3.11/site-packages (from ipython>=6.1.0->ipywidgets) (0.2.0)\n",
      "Requirement already satisfied: pexpect>4.3 in /home/lxj220018/anaconda3/lib/python3.11/site-packages (from ipython>=6.1.0->ipywidgets) (4.8.0)\n",
      "Requirement already satisfied: parso<0.9.0,>=0.8.0 in /home/lxj220018/anaconda3/lib/python3.11/site-packages (from jedi>=0.16->ipython>=6.1.0->ipywidgets) (0.8.3)\n",
      "Requirement already satisfied: entrypoints in /home/lxj220018/anaconda3/lib/python3.11/site-packages (from jupyter-client>=6.1.12->ipykernel>=4.5.1->ipywidgets) (0.4)\n",
      "Requirement already satisfied: jupyter-core>=4.9.2 in /home/lxj220018/anaconda3/lib/python3.11/site-packages (from jupyter-client>=6.1.12->ipykernel>=4.5.1->ipywidgets) (5.3.0)\n",
      "Requirement already satisfied: python-dateutil>=2.8.2 in /home/lxj220018/anaconda3/lib/python3.11/site-packages (from jupyter-client>=6.1.12->ipykernel>=4.5.1->ipywidgets) (2.8.2)\n",
      "Requirement already satisfied: ptyprocess>=0.5 in /home/lxj220018/anaconda3/lib/python3.11/site-packages (from pexpect>4.3->ipython>=6.1.0->ipywidgets) (0.7.0)\n",
      "Requirement already satisfied: wcwidth in /home/lxj220018/anaconda3/lib/python3.11/site-packages (from prompt-toolkit!=3.0.37,<3.1.0,>=3.0.30->ipython>=6.1.0->ipywidgets) (0.2.5)\n",
      "Requirement already satisfied: executing in /home/lxj220018/anaconda3/lib/python3.11/site-packages (from stack-data->ipython>=6.1.0->ipywidgets) (0.8.3)\n",
      "Requirement already satisfied: asttokens in /home/lxj220018/anaconda3/lib/python3.11/site-packages (from stack-data->ipython>=6.1.0->ipywidgets) (2.0.5)\n",
      "Requirement already satisfied: pure-eval in /home/lxj220018/anaconda3/lib/python3.11/site-packages (from stack-data->ipython>=6.1.0->ipywidgets) (0.2.2)\n",
      "Requirement already satisfied: platformdirs>=2.5 in /home/lxj220018/anaconda3/lib/python3.11/site-packages (from jupyter-core>=4.9.2->jupyter-client>=6.1.12->ipykernel>=4.5.1->ipywidgets) (2.5.2)\n",
      "Requirement already satisfied: six>=1.5 in /home/lxj220018/anaconda3/lib/python3.11/site-packages (from python-dateutil>=2.8.2->jupyter-client>=6.1.12->ipykernel>=4.5.1->ipywidgets) (1.16.0)\n"
     ]
    }
   ],
   "source": [
    "!pip install ipywidgets"
   ]
  },
  {
   "cell_type": "code",
   "execution_count": 4,
   "id": "323370b6",
   "metadata": {},
   "outputs": [],
   "source": [
    "# Video folder\n",
    "video_folder = \"./clips\"\n",
    "name_folder = './parts'\n",
    "part = 'video_files_part_1.csv'\n",
    "\n",
    "clip_paths = pd.read_csv(os.path.join(name_folder, part))['File Name']"
   ]
  },
  {
   "cell_type": "markdown",
   "id": "ede8a98a",
   "metadata": {},
   "source": [
    "### Play the clip & start annotation"
   ]
  },
  {
   "cell_type": "code",
   "execution_count": 5,
   "id": "67c38e8a",
   "metadata": {},
   "outputs": [],
   "source": [
    "# load json file\n",
    "import json\n",
    "\n",
    "transcripts = json.load(open('text_data.json', 'r'))\n"
   ]
  },
  {
   "cell_type": "code",
   "execution_count": 6,
   "id": "4f1a9e43",
   "metadata": {},
   "outputs": [
    {
     "data": {
      "text/plain": [
       "15887"
      ]
     },
     "execution_count": 6,
     "metadata": {},
     "output_type": "execute_result"
    }
   ],
   "source": [
    "len(transcripts)"
   ]
  },
  {
   "cell_type": "code",
   "execution_count": 7,
   "id": "507df387",
   "metadata": {
    "scrolled": false
   },
   "outputs": [],
   "source": [
    "# all_cnt = 0\n",
    "# name_set = set()\n",
    "# for i in range(1, 8):\n",
    "#     part = f'video_files_part_{i}.csv'\n",
    "#     clip_paths = pd.read_csv(os.path.join(name_folder, part))['File Name']\n",
    "#     cnt = 0\n",
    "#     for path in clip_paths:\n",
    "#         name = path.replace('./clips/', '')\n",
    "#         name = name.replace('.mp4', '')\n",
    "#         # for alignment\n",
    "#         name = name.replace('_split_', '_clip_')\n",
    "# #         print(name)\n",
    "\n",
    "#         if name in transcripts.keys():\n",
    "#     #         display(Video(path, width=600, height=400))\n",
    "#             cnt += 1\n",
    "#             name_set.add(name)\n",
    "# #         else:\n",
    "# #             print(name)\n",
    "#     all_cnt += cnt\n",
    "    \n",
    "# intersection_set = name_set.intersection(transcripts)\n",
    "# print(len(intersection_set) == len(transcripts) == len(name_set))"
   ]
  },
  {
   "cell_type": "markdown",
   "id": "b7bbf145",
   "metadata": {},
   "source": [
    "### Data Format"
   ]
  },
  {
   "cell_type": "markdown",
   "id": "9893b5f3",
   "metadata": {},
   "source": [
    "violin_annotation.json contains clip info, subtitles, and human written real/fake statements.\n",
    "\n",
    "violin_annotation.json is a dict with file_id as keys, and each element describes a clip. Here is an example:\n",
    "'friends_s07e07_clip_1056_1080_039':{\n",
    "\t\t'file':'friends_s07e07_clip_1056_1080_039',\n",
    "\t\t'source':'friends_s07e07',\n",
    "\t\t'split':'train',\n",
    "\t\t'span':[1055.9888, 1080.1232], \n",
    "\t\t'statement':[[real1, fake1], [real2, fake2], [real3, fake3]],\n",
    "\t\t'sub':[['Good morining!', [110, 2134]],['xxx', [xxx, xxx]], ...]\n",
    "\t}\n",
    "\n",
    "\n",
    "'source' is the source of the video clip. If the clip comes from Youtube, 'source' indicates its Youtube id.\n",
    "\n",
    "'span' indicates the time interval that the clip is cut from the original video (in seconds).\n",
    "\n",
    "'statement' is annotation from AMT, containing three pairs of real and fake statements.\n",
    "\n",
    "'sub' is the subtitles associated with the clip. Each line is paired with its time interval (**within** the clip, in milliseconds)."
   ]
  },
  {
   "cell_type": "code",
   "execution_count": 13,
   "id": "c32d5345",
   "metadata": {
    "scrolled": true
   },
   "outputs": [
    {
     "data": {
      "text/html": [
       "<video src=\"./clips/friends_s05e20_clip_697_724.mp4\" controls  width=\"600\"  height=\"400\">\n",
       "      Your browser does not support the <code>video</code> element.\n",
       "    </video>"
      ],
      "text/plain": [
       "<IPython.core.display.Video object>"
      ]
     },
     "metadata": {},
     "output_type": "display_data"
    },
    {
     "name": "stdout",
     "output_type": "stream",
     "text": [
      "Real Statement: The two women are standing there to the man talk on the answering machine .\n",
      "Fake Statement: The two women are standing there listening to the woman talk on the answering machine .\n"
     ]
    },
    {
     "data": {
      "application/vnd.jupyter.widget-view+json": {
       "model_id": "7602827b6d98482ea36403e3a2163980",
       "version_major": 2,
       "version_minor": 0
      },
      "text/plain": [
       "Textarea(value='', description='Strengthener:', layout=Layout(width='100%'), placeholder='Type your strengthen…"
      ]
     },
     "metadata": {},
     "output_type": "display_data"
    },
    {
     "data": {
      "application/vnd.jupyter.widget-view+json": {
       "model_id": "bc366908b41d4f32be06975323782a65",
       "version_major": 2,
       "version_minor": 0
      },
      "text/plain": [
       "FloatText(value=0.0, description='Strengthener Span:', layout=Layout(width='50%'))"
      ]
     },
     "metadata": {},
     "output_type": "display_data"
    },
    {
     "data": {
      "application/vnd.jupyter.widget-view+json": {
       "model_id": "2c20617e21cc4c5b9a1bf40ad20eb306",
       "version_major": 2,
       "version_minor": 0
      },
      "text/plain": [
       "Textarea(value='', description='Weakener:', layout=Layout(width='100%'), placeholder='Type your weakener here.…"
      ]
     },
     "metadata": {},
     "output_type": "display_data"
    },
    {
     "data": {
      "application/vnd.jupyter.widget-view+json": {
       "model_id": "268642f721a641d38a18aef97fd0e070",
       "version_major": 2,
       "version_minor": 0
      },
      "text/plain": [
       "FloatText(value=0.0, description='Weakener Span:', layout=Layout(width='50%'))"
      ]
     },
     "metadata": {},
     "output_type": "display_data"
    },
    {
     "name": "stdout",
     "output_type": "stream",
     "text": [
      "Real Statement: The woman in the brown shirt is holding her face  while the woman   in the black outfit   is holding a purple blender .\n",
      "Fake Statement: The woman in the black brown shirt it's a holding a purple blender while the woman in the black outfit is holding her face .\n"
     ]
    },
    {
     "data": {
      "application/vnd.jupyter.widget-view+json": {
       "model_id": "84cc356c41cb498eb4eb0a15fbcf2809",
       "version_major": 2,
       "version_minor": 0
      },
      "text/plain": [
       "Textarea(value='', description='Strengthener:', layout=Layout(width='100%'), placeholder='Type your strengthen…"
      ]
     },
     "metadata": {},
     "output_type": "display_data"
    },
    {
     "data": {
      "application/vnd.jupyter.widget-view+json": {
       "model_id": "16519c302f36478d9a621c3452d8927f",
       "version_major": 2,
       "version_minor": 0
      },
      "text/plain": [
       "FloatText(value=0.0, description='Strengthener Span:', layout=Layout(width='50%'))"
      ]
     },
     "metadata": {},
     "output_type": "display_data"
    },
    {
     "data": {
      "application/vnd.jupyter.widget-view+json": {
       "model_id": "ce792a0b17904beaa161c073621ac4fc",
       "version_major": 2,
       "version_minor": 0
      },
      "text/plain": [
       "Textarea(value='', description='Weakener:', layout=Layout(width='100%'), placeholder='Type your weakener here.…"
      ]
     },
     "metadata": {},
     "output_type": "display_data"
    },
    {
     "data": {
      "application/vnd.jupyter.widget-view+json": {
       "model_id": "1cfcdf45ad104b8d859e6e1809f74838",
       "version_major": 2,
       "version_minor": 0
      },
      "text/plain": [
       "FloatText(value=0.0, description='Weakener Span:', layout=Layout(width='50%'))"
      ]
     },
     "metadata": {},
     "output_type": "display_data"
    },
    {
     "name": "stdout",
     "output_type": "stream",
     "text": [
      "Real Statement: The woman in the black outfit    said that the message on the answering machine will make the problem go away .\n",
      "Fake Statement: The woman in the green shirt is reading a book while sitting at a table.\n"
     ]
    },
    {
     "data": {
      "application/vnd.jupyter.widget-view+json": {
       "model_id": "209b0f0439464491a6a357c2bf322c97",
       "version_major": 2,
       "version_minor": 0
      },
      "text/plain": [
       "Textarea(value='', description='Strengthener:', layout=Layout(width='100%'), placeholder='Type your strengthen…"
      ]
     },
     "metadata": {},
     "output_type": "display_data"
    },
    {
     "data": {
      "application/vnd.jupyter.widget-view+json": {
       "model_id": "e12799cb355e42eb83d686b4e9792c93",
       "version_major": 2,
       "version_minor": 0
      },
      "text/plain": [
       "FloatText(value=0.0, description='Strengthener Span:', layout=Layout(width='50%'))"
      ]
     },
     "metadata": {},
     "output_type": "display_data"
    },
    {
     "data": {
      "application/vnd.jupyter.widget-view+json": {
       "model_id": "08da1004d0c5456d8358f032b38289cd",
       "version_major": 2,
       "version_minor": 0
      },
      "text/plain": [
       "Textarea(value='', description='Weakener:', layout=Layout(width='100%'), placeholder='Type your weakener here.…"
      ]
     },
     "metadata": {},
     "output_type": "display_data"
    },
    {
     "data": {
      "application/vnd.jupyter.widget-view+json": {
       "model_id": "fc7665ec98a443e5ae4bd27b2e25c2fc",
       "version_major": 2,
       "version_minor": 0
      },
      "text/plain": [
       "FloatText(value=0.0, description='Weakener Span:', layout=Layout(width='50%'))"
      ]
     },
     "metadata": {},
     "output_type": "display_data"
    },
    {
     "data": {
      "application/vnd.jupyter.widget-view+json": {
       "model_id": "c9c7be81e0a445fa847eb2f1f379cf9e",
       "version_major": 2,
       "version_minor": 0
      },
      "text/plain": [
       "Button(description='Save All', style=ButtonStyle())"
      ]
     },
     "metadata": {},
     "output_type": "display_data"
    }
   ],
   "source": [
    "from IPython.display import Video, display, clear_output\n",
    "import ipywidgets as widgets\n",
    "\n",
    "# Data structure to store user inputs for strengtheners and weakeners\n",
    "results = []\n",
    "current_video_index = 0  # Track the current video index\n",
    "\n",
    "def save_results_to_json(file_name='results.json'):\n",
    "    with open(file_name, 'w') as json_file:\n",
    "        json.dump(results, json_file, indent=4)\n",
    "    print(f\"Results successfully saved to {file_name}\")\n",
    "\n",
    "def save_data_to_dict(original_dict, all_statements):\n",
    "    # Create a new dictionary by copying the original dictionary\n",
    "    new_entry = original_dict.copy()\n",
    "    \n",
    "    # Add the strengthener, weakener, and their respective spans to the new dictionary for all statements\n",
    "    new_entry['statements'] = all_statements\n",
    "    \n",
    "    # Save the updated dictionary into the results list\n",
    "    results.append(new_entry)\n",
    "    \n",
    "    print(\"Data saved!\")\n",
    "    print(f\"Current data: {results}\")\n",
    "    \n",
    "    # Move to the next video\n",
    "    show_next()\n",
    "\n",
    "def show_next():\n",
    "    global current_video_index\n",
    "    \n",
    "    # Check if we've exhausted all videos\n",
    "    if current_video_index >= len(clip_paths):\n",
    "        print(\"All videos have been annotated.\")\n",
    "        return\n",
    "    \n",
    "    path = clip_paths[current_video_index]\n",
    "    name = path.replace('./clips/', '')\n",
    "    name = name.replace('.mp4', '')\n",
    "    name = name.replace('_split_', '_clip_')\n",
    "    \n",
    "    print(f\"Processing video: {name} (index {current_video_index})\")  # Debugging print\n",
    "    \n",
    "    if name in transcripts.keys():\n",
    "        # Clear previous displays\n",
    "        clear_output(wait=True)\n",
    "\n",
    "        # Display the video\n",
    "        display(Video(path, width=600, height=400))\n",
    "        \n",
    "        # Prepare a list to hold all statements' data\n",
    "        all_statements = []\n",
    "        \n",
    "        # Loop over all statements for the current video\n",
    "        for statement in transcripts[name]['statement']:\n",
    "            real_state, fake_state = statement[0], statement[1]\n",
    "            \n",
    "            # Display the real statement\n",
    "            print(f\"Real Statement: {real_state}\")\n",
    "            \n",
    "            # Create a text area for inputting the strengthener\n",
    "            strengthener_input = widgets.Textarea(\n",
    "                placeholder='Type your strengthener here...',\n",
    "                description='Strengthener:',\n",
    "                layout=widgets.Layout(width='100%')\n",
    "            )\n",
    "            \n",
    "            # Create an input for the strengthener span (in seconds)\n",
    "            strengthener_span_input = widgets.FloatText(\n",
    "                placeholder='Enter strengthener span (in seconds)...',\n",
    "                description='Strengthener Span:',\n",
    "                layout=widgets.Layout(width='50%')\n",
    "            )\n",
    "\n",
    "            # Display the fake statement\n",
    "            print(f\"Fake Statement: {fake_state}\")\n",
    "            \n",
    "            # Create a text area for inputting the weakener\n",
    "            weakener_input = widgets.Textarea(\n",
    "                placeholder='Type your weakener here...',\n",
    "                description='Weakener:',\n",
    "                layout=widgets.Layout(width='100%')\n",
    "            )\n",
    "            \n",
    "            # Create an input for the weakener span (in seconds)\n",
    "            weakener_span_input = widgets.FloatText(\n",
    "                placeholder='Enter weakener span (in seconds)...',\n",
    "                description='Weakener Span:',\n",
    "                layout=widgets.Layout(width='50%')\n",
    "            )\n",
    "            \n",
    "            # Collect the statement data\n",
    "            all_statements.append({\n",
    "                'real_statement': real_state,\n",
    "                'strengthener': strengthener_input,\n",
    "                'strengthener_span': strengthener_span_input,\n",
    "                'fake_statement': fake_state,\n",
    "                'weakener': weakener_input,\n",
    "                'weakener_span': weakener_span_input\n",
    "            })\n",
    "            \n",
    "            # Display the input fields\n",
    "            display(strengthener_input)\n",
    "            display(strengthener_span_input)\n",
    "            display(weakener_input)\n",
    "            display(weakener_span_input)\n",
    "        \n",
    "        # Create a save button\n",
    "        save_button = widgets.Button(description=\"Save All\")\n",
    "        \n",
    "        # Define the save button's click event handler\n",
    "        def on_save_button_clicked(b):\n",
    "            # Extract values from all input widgets\n",
    "            for item in all_statements:\n",
    "                item['strengthener'] = item['strengthener'].value\n",
    "                item['strengthener_span'] = item['strengthener_span'].value\n",
    "                item['weakener'] = item['weakener'].value\n",
    "                item['weakener_span'] = item['weakener_span'].value\n",
    "            \n",
    "            save_data_to_dict(transcripts[name], all_statements)\n",
    "            current_video_index += 1\n",
    "        \n",
    "        save_button.on_click(on_save_button_clicked)\n",
    "        \n",
    "        # Display the save button\n",
    "        display(save_button)\n",
    "    else:\n",
    "        print(f\"No transcript found for: {name}\")  # Debugging print\n",
    "        current_video_index += 1\n",
    "        show_next()\n",
    "\n",
    "# Start the annotation process\n",
    "show_next()\n"
   ]
  },
  {
   "cell_type": "code",
   "execution_count": 23,
   "id": "8d996883",
   "metadata": {
    "scrolled": true
   },
   "outputs": [
    {
     "data": {
      "text/plain": [
       "2309"
      ]
     },
     "execution_count": 23,
     "metadata": {},
     "output_type": "execute_result"
    }
   ],
   "source": [
    "# Function to export results to a CSV file using pandas\n",
    "def export_results_to_csv(file_name='results.csv'):\n",
    "    # Prepare the data for the DataFrame\n",
    "    data = []\n",
    "    for entry in results:\n",
    "        for statement in entry['statements']:\n",
    "            data.append({\n",
    "                'video_file': entry['file'],\n",
    "                'real_statement': statement['real_statement'],\n",
    "                'strengthener': statement['strengthener'],\n",
    "                'strengthener_span': statement['strengthener_span'],\n",
    "                'fake_statement': statement['fake_statement'],\n",
    "                'weakener': statement['weakener'],\n",
    "                'weakener_span': statement['weakener_span']\n",
    "            })\n",
    "    \n",
    "    # Create a DataFrame\n",
    "    df = pd.DataFrame(data)\n",
    "    \n",
    "    # Export the DataFrame to a CSV file\n",
    "    df.to_csv(file_name, index=False)\n",
    "    \n",
    "    print(f\"Results successfully exported to {file_name}\")\n",
    "\n",
    "# Example usage:\n",
    "export_results_to_csv('annotated_results.csv')\n"
   ]
  },
  {
   "cell_type": "code",
   "execution_count": null,
   "id": "77f84846",
   "metadata": {},
   "outputs": [],
   "source": []
  }
 ],
 "metadata": {
  "kernelspec": {
   "display_name": "Python 3 (ipykernel)",
   "language": "python",
   "name": "python3"
  },
  "language_info": {
   "codemirror_mode": {
    "name": "ipython",
    "version": 3
   },
   "file_extension": ".py",
   "mimetype": "text/x-python",
   "name": "python",
   "nbconvert_exporter": "python",
   "pygments_lexer": "ipython3",
   "version": "3.11.4"
  }
 },
 "nbformat": 4,
 "nbformat_minor": 5
}
