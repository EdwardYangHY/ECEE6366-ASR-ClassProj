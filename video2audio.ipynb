{
 "cells": [
  {
   "cell_type": "code",
   "execution_count": 4,
   "metadata": {},
   "outputs": [],
   "source": [
    "import pandas as pd\n",
    "from moviepy.editor import VideoFileClip\n",
    "from tqdm import tqdm  # For the progress bar\n",
    "import os\n"
   ]
  },
  {
   "cell_type": "code",
   "execution_count": 54,
   "metadata": {},
   "outputs": [],
   "source": [
    "# Read the CSV file\n",
    "csv_file = [\"./Data/violin_raw_videos/parts/video_files_part_1.csv\",\n",
    "\"./Data/violin_raw_videos/parts/video_files_part_2.csv\",\n",
    "\"./Data/violin_raw_videos/parts/video_files_part_3.csv\",\n",
    "\"./Data/violin_raw_videos/parts/video_files_part_4.csv\",\n",
    "\"./Data/violin_raw_videos/parts/video_files_part_5.csv\",\n",
    "\"./Data/violin_raw_videos/parts/video_files_part_6.csv\",\n",
    "\"./Data/violin_raw_videos/parts/video_files_part_7.csv\"]\n",
    "video_paths = pd.read_csv(csv_file[0])\n",
    "\n",
    "audio_file_path = \"./Data/violin_raw_videos/audio_clips/\"\n"
   ]
  },
  {
   "cell_type": "code",
   "execution_count": 55,
   "metadata": {},
   "outputs": [],
   "source": [
    "def video2audio(v_path, a_path, codec='flac'):\n",
    "    \"\"\"\n",
    "    Converts a video file to an audio file.\n",
    "    \n",
    "    Parameters:\n",
    "        v_path (str): Path to the input video file.\n",
    "        a_path (str): Path to save the extracted audio file.\n",
    "        codec (str, optional): Audio codec to use (e.g., 'mp3', 'flac'). Defaults to None.\n",
    "    \n",
    "    Returns:\n",
    "        bool: True if successful, False if an error occurred.\n",
    "    \"\"\"\n",
    "    try:\n",
    "        # Load the video file\n",
    "        video_clip = VideoFileClip(v_path)\n",
    "        \n",
    "        # Extract the audio and save it\n",
    "        video_clip.audio.write_audiofile(a_path, codec=codec, verbose=False, logger=None)\n",
    "        return True\n",
    "    except Exception as e:\n",
    "        print(f\"Error converting {v_path} to audio: {e}\")\n",
    "        return False\n",
    "\n",
    "def get_file_name(path):\n",
    "    return os.path.splitext(os.path.basename(path))[0]\n",
    "\n",
    "def vpath2apath(v_path, header, extension = '.flac'):\n",
    "    return header + get_file_name(video_path) + extension"
   ]
  },
  {
   "cell_type": "markdown",
   "metadata": {},
   "source": [
    "## Save Flac\n",
    "1. Read csv in parts\n",
    "2. Read each line, preserve the base_name, sperate the audio and save in flac format\n",
    "   1. Save audio clips under audio_clips\n",
    "3. Save the audio paths in csv under audio_parts"
   ]
  },
  {
   "cell_type": "code",
   "execution_count": 61,
   "metadata": {},
   "outputs": [
    {
     "name": "stderr",
     "output_type": "stream",
     "text": [
      "Processing Videos: 100%|██████████| 2495/2495 [14:17<00:00,  2.91it/s]\n"
     ]
    },
    {
     "name": "stdout",
     "output_type": "stream",
     "text": [
      "Modified list saved to ./Data/violin_raw_videos/audio_parts/audio_files_part_1.csv\n"
     ]
    },
    {
     "name": "stderr",
     "output_type": "stream",
     "text": [
      "Processing Videos: 100%|██████████| 2495/2495 [14:21<00:00,  2.90it/s]\n"
     ]
    },
    {
     "name": "stdout",
     "output_type": "stream",
     "text": [
      "Modified list saved to ./Data/violin_raw_videos/audio_parts/audio_files_part_2.csv\n"
     ]
    },
    {
     "name": "stderr",
     "output_type": "stream",
     "text": [
      "Processing Videos: 100%|██████████| 2495/2495 [15:32<00:00,  2.68it/s]\n"
     ]
    },
    {
     "name": "stdout",
     "output_type": "stream",
     "text": [
      "Modified list saved to ./Data/violin_raw_videos/audio_parts/audio_files_part_3.csv\n"
     ]
    },
    {
     "name": "stderr",
     "output_type": "stream",
     "text": [
      "Processing Videos:  42%|████▏     | 1055/2495 [06:57<08:42,  2.76it/s]"
     ]
    },
    {
     "name": "stdout",
     "output_type": "stream",
     "text": [
      "Error converting ./Data/violin_raw_videos/clips/IelhpK-eDh0_clip_000_040.mp4 to audio: 'NoneType' object has no attribute 'write_audiofile'\n"
     ]
    },
    {
     "name": "stderr",
     "output_type": "stream",
     "text": [
      "Processing Videos:  88%|████████▊ | 2206/2495 [14:07<01:14,  3.88it/s]"
     ]
    },
    {
     "name": "stdout",
     "output_type": "stream",
     "text": [
      "Error converting ./Data/violin_raw_videos/clips/8osP7KRacWk_clip_000_040.mp4 to audio: 'NoneType' object has no attribute 'write_audiofile'\n"
     ]
    },
    {
     "name": "stderr",
     "output_type": "stream",
     "text": [
      "Processing Videos: 100%|██████████| 2495/2495 [15:56<00:00,  2.61it/s]\n"
     ]
    },
    {
     "name": "stdout",
     "output_type": "stream",
     "text": [
      "Modified list saved to ./Data/violin_raw_videos/audio_parts/audio_files_part_4.csv\n"
     ]
    },
    {
     "name": "stderr",
     "output_type": "stream",
     "text": [
      "Processing Videos: 100%|██████████| 2495/2495 [18:51<00:00,  2.20it/s]\n"
     ]
    },
    {
     "name": "stdout",
     "output_type": "stream",
     "text": [
      "Modified list saved to ./Data/violin_raw_videos/audio_parts/audio_files_part_5.csv\n"
     ]
    },
    {
     "name": "stderr",
     "output_type": "stream",
     "text": [
      "Processing Videos: 100%|██████████| 2495/2495 [16:22<00:00,  2.54it/s]\n"
     ]
    },
    {
     "name": "stdout",
     "output_type": "stream",
     "text": [
      "Modified list saved to ./Data/violin_raw_videos/audio_parts/audio_files_part_6.csv\n"
     ]
    },
    {
     "name": "stderr",
     "output_type": "stream",
     "text": [
      "Processing Videos: 100%|██████████| 2495/2495 [18:07<00:00,  2.29it/s]"
     ]
    },
    {
     "name": "stdout",
     "output_type": "stream",
     "text": [
      "Modified list saved to ./Data/violin_raw_videos/audio_parts/audio_files_part_7.csv\n"
     ]
    },
    {
     "name": "stderr",
     "output_type": "stream",
     "text": [
      "\n"
     ]
    }
   ],
   "source": [
    "# Load the CSV file\n",
    "for i in range(7):\n",
    "    file_path = f\"./Data/violin_raw_videos/parts/video_files_part_{i+1}.csv\"  # Replace with your file path\n",
    "    output_file_path = f\"./Data/violin_raw_videos/audio_parts/audio_files_part_{i+1}.csv\"  # Output file path\n",
    "\n",
    "    # Read the file into a DataFrame\n",
    "    video_paths_df = pd.read_csv(file_path, header=None, names=[\"video_path\"])\n",
    "    video_paths = video_paths_df[\"video_path\"].iloc[1:].tolist()  # Skip the first row if it's a header\n",
    "    audio_paths = []\n",
    "\n",
    "    with tqdm(total=len(video_paths), desc=\"Processing Videos\") as pbar:\n",
    "        for video_path in video_paths:\n",
    "            video_path = f\"./Data/violin_raw_videos/clips/{os.path.basename(video_path)}\"\n",
    "            if not os.path.exists(video_path):\n",
    "                print(f\"Video file not found: {video_path}\")\n",
    "                pbar.update(1)\n",
    "                continue\n",
    "            \n",
    "            try:\n",
    "                # audio output path\n",
    "                audio_output_path = vpath2apath(video_path, audio_file_path)\n",
    "                \n",
    "                # Extract and save the audio\n",
    "                video2audio(video_path, audio_output_path, codec='flac')\n",
    "                # print(f\"Audio saved: {audio_output_path}\")\n",
    "                # print(f\"./audio_clips/{os.path.basename(audio_output_path)}\")\n",
    "                audio_output_path_csv = f\"./audio_clips/{os.path.basename(audio_output_path)}\"\n",
    "                audio_paths.append(audio_output_path_csv)\n",
    "\n",
    "            except Exception as e:\n",
    "                print(f\"Error processing {video_path}: {e}\")\n",
    "            finally:\n",
    "                pbar.update(1)  # Update the progress bar\n",
    "    \n",
    "    # Create a new DataFrame for the modified list\n",
    "    modified_df = pd.DataFrame(audio_paths, columns=[\"File Name\"])\n",
    "\n",
    "    # Save the modified list to a new CSV file\n",
    "    modified_df.to_csv(output_file_path, index=False)\n",
    "\n",
    "    print(f\"Modified list saved to {output_file_path}\")"
   ]
  },
  {
   "cell_type": "markdown",
   "metadata": {},
   "source": [
    "“./Data/violin_raw_videos/audio_parts/audio_files_part_4.csv”\n",
    "\n",
    "Has 2 failed entries:\n",
    "\n",
    "Error converting ./Data/violin_raw_videos/clips/IelhpK-eDh0_clip_000_040.mp4 to audio: 'NoneType' object has no attribute 'write_audiofile'\n",
    "\n",
    "Error converting ./Data/violin_raw_videos/clips/8osP7KRacWk_clip_000_040.mp4 to audio: 'NoneType' object has no attribute 'write_audiofile'\n"
   ]
  },
  {
   "cell_type": "markdown",
   "metadata": {},
   "source": [
    "## Check CSV"
   ]
  },
  {
   "cell_type": "code",
   "execution_count": null,
   "metadata": {},
   "outputs": [
    {
     "name": "stdout",
     "output_type": "stream",
     "text": [
      "./Data/violin_raw_videos/audio_clips/friends_s05e02_split_48_138.flac\n",
      "./Data/violin_raw_videos/audio_clips/friends_s05e20_clip_697_724.flac\n",
      "./Data/violin_raw_videos/audio_clips/-1U0LH6dPfw_clip_000_040.flac\n",
      "./Data/violin_raw_videos/audio_clips/friends_s03e03_split_571_661.flac\n",
      "./Data/violin_raw_videos/audio_clips/dh_s04e12_clip_1575_1601.flac\n",
      "./Data/violin_raw_videos/audio_clips/dh_s01e01_split_557_647.flac\n",
      "./Data/violin_raw_videos/audio_clips/friends_s01e22_split_135_225.flac\n",
      "./Data/violin_raw_videos/audio_clips/dh_s07e07_clip_1122_1155.flac\n",
      "./Data/violin_raw_videos/audio_clips/SuSUwDgtq1g_clip_000_040.flac\n",
      "./Data/violin_raw_videos/audio_clips/f-DgdMpSo7c_clip_000_040.flac\n",
      "./Data/violin_raw_videos/audio_clips/dh_s04e11_clip_1246_1277.flac\n",
      "./Data/violin_raw_videos/audio_clips/dh_s08e12_clip_2332_2367.flac\n",
      "./Data/violin_raw_videos/audio_clips/dh_s08e01_clip_1772_1803.flac\n",
      "./Data/violin_raw_videos/audio_clips/dh_s07e13_clip_644_680.flac\n",
      "./Data/violin_raw_videos/audio_clips/6xaUD1jKFWg_clip_000_040.flac\n",
      "./Data/violin_raw_videos/audio_clips/friends_s02e03_split_666_756.flac\n",
      "./Data/violin_raw_videos/audio_clips/friends_s06e05_split_38_128.flac\n",
      "./Data/violin_raw_videos/audio_clips/dh_s06e06_clip_870_906.flac\n",
      "./Data/violin_raw_videos/audio_clips/friends_s05e12_clip_567_601.flac\n",
      "./Data/violin_raw_videos/audio_clips/dh_s08e09_clip_617_652.flac\n",
      "./Data/violin_raw_videos/audio_clips/9hMrzEWpZM0_clip_000_040.flac\n",
      "./Data/violin_raw_videos/audio_clips/friends_s04e07_clip_344_378.flac\n",
      "./Data/violin_raw_videos/audio_clips/dh_s02e09_clip_1834_1859.flac\n",
      "./Data/violin_raw_videos/audio_clips/dh_s07e21_clip_78_106.flac\n",
      "./Data/violin_raw_videos/audio_clips/Jp9IN_iver4_clip_000_040.flac\n",
      "./Data/violin_raw_videos/audio_clips/bZhBhpm6m_A_clip_000_040.flac\n",
      "./Data/violin_raw_videos/audio_clips/dh_s02e09_clip_494_514.flac\n",
      "./Data/violin_raw_videos/audio_clips/SRy397r355A_clip_000_040.flac\n",
      "./Data/violin_raw_videos/audio_clips/RRcYHJ1uTro_clip_000_040.flac\n",
      "./Data/violin_raw_videos/audio_clips/El0_VgXqgXU_clip_000_040.flac\n",
      "./Data/violin_raw_videos/audio_clips/friends_s06e06_clip_158_194.flac\n",
      "./Data/violin_raw_videos/audio_clips/friends_s04e16_clip_1051_1087.flac\n",
      "./Data/violin_raw_videos/audio_clips/dh_s04e01_split_1043_1133.flac\n",
      "./Data/violin_raw_videos/audio_clips/friends_s05e20_clip_54_76.flac\n",
      "./Data/violin_raw_videos/audio_clips/dh_s04e07_clip_1938_1975.flac\n",
      "./Data/violin_raw_videos/audio_clips/-OMiOIbouaA_clip_000_040.flac\n",
      "./Data/violin_raw_videos/audio_clips/dh_s07e05_clip_2226_2253.flac\n",
      "./Data/violin_raw_videos/audio_clips/dh_s02e12_clip_2073_2108.flac\n",
      "./Data/violin_raw_videos/audio_clips/dh_s07e09_clip_1067_1101.flac\n",
      "./Data/violin_raw_videos/audio_clips/dh_s04e04_clip_1043_1064.flac\n",
      "./Data/violin_raw_videos/audio_clips/friends_s02e03_clip_357_384.flac\n",
      "./Data/violin_raw_videos/audio_clips/PTOkGaI3ZAE_clip_000_040.flac\n",
      "./Data/violin_raw_videos/audio_clips/Yqf0AqAHhaM_clip_000_040.flac\n",
      "./Data/violin_raw_videos/audio_clips/Yn_W5-xgf28_clip_000_040.flac\n",
      "./Data/violin_raw_videos/audio_clips/YzIWoPLLktE_clip_000_040.flac\n",
      "./Data/violin_raw_videos/audio_clips/dh_s03e22_clip_759_791.flac\n",
      "./Data/violin_raw_videos/audio_clips/ecmDPqCP8ms_clip_000_040.flac\n",
      "./Data/violin_raw_videos/audio_clips/Kxyzb8LbVKQ_clip_000_040.flac\n",
      "./Data/violin_raw_videos/audio_clips/dEfBtVYzWks_clip_000_040.flac\n",
      "./Data/violin_raw_videos/audio_clips/dh_s04e01_split_936_1026.flac\n",
      "./Data/violin_raw_videos/audio_clips/himym_s04e09_clip_1162_1201.flac\n",
      "./Data/violin_raw_videos/audio_clips/himym_s05e22_clip_969_1005.flac\n",
      "./Data/violin_raw_videos/audio_clips/mf_s06e05_clip_666_703.flac\n",
      "./Data/violin_raw_videos/audio_clips/friends_s07e04_split_955_1045.flac\n",
      "./Data/violin_raw_videos/audio_clips/rcA0MBnPPM8_clip_000_040.flac\n",
      "./Data/violin_raw_videos/audio_clips/mf_s03e02_clip_1136_1162.flac\n",
      "./Data/violin_raw_videos/audio_clips/tjSf6v-dztQ_clip_000_040.flac\n",
      "./Data/violin_raw_videos/audio_clips/friends_s09e13_clip_1285_1318.flac\n",
      "./Data/violin_raw_videos/audio_clips/nuUuXO8D9mo_clip_000_040.flac\n",
      "./Data/violin_raw_videos/audio_clips/mf_s05e24_clip_461_495.flac\n",
      "./Data/violin_raw_videos/audio_clips/himym_s07e19_clip_1194_1229.flac\n",
      "./Data/violin_raw_videos/audio_clips/himym_s05e16_clip_362_386.flac\n",
      "./Data/violin_raw_videos/audio_clips/mf_s04e10_clip_600_633.flac\n",
      "./Data/violin_raw_videos/audio_clips/friends_s07e15_clip_1059_1095.flac\n",
      "./Data/violin_raw_videos/audio_clips/mf_s06e01_clip_696_732.flac\n",
      "./Data/violin_raw_videos/audio_clips/mf_s01e05_clip_365_398.flac\n",
      "./Data/violin_raw_videos/audio_clips/mf_s03e14_clip_1190_1223.flac\n",
      "./Data/violin_raw_videos/audio_clips/mf_s06e21_clip_332_368.flac\n",
      "./Data/violin_raw_videos/audio_clips/v38lu0Bi0Kk_clip_000_040.flac\n",
      "./Data/violin_raw_videos/audio_clips/himym_s01e01_clip_265_299.flac\n"
     ]
    }
   ],
   "source": [
    "for i in range(7):\n",
    "    audio_file_path = f\"./Data/violin_raw_videos/audio_parts/audio_files_part_{i+1}.csv\"  # Output file path\n",
    "\n",
    "    # Read the file into a DataFrame\n",
    "    audio_paths_df = pd.read_csv(audio_file_path, header=None, names=[\"audio_paths\"])\n",
    "    audio_paths = audio_paths_df[\"audio_paths\"].iloc[1:].tolist()  # Skip the first row if it's a header\n",
    "\n",
    "    for audio_path in audio_paths:\n",
    "        audio_path = f\"./Data/violin_raw_videos/audio_clips/{os.path.basename(audio_path)}\"\n",
    "        # print(audio_path)\n",
    "        if not os.path.exists(audio_path):\n",
    "            print(f\"Audio file not found: {audio_path}\")\n",
    "            continue"
   ]
  },
  {
   "cell_type": "code",
   "execution_count": null,
   "metadata": {},
   "outputs": [],
   "source": []
  }
 ],
 "metadata": {
  "kernelspec": {
   "display_name": "research",
   "language": "python",
   "name": "python3"
  },
  "language_info": {
   "codemirror_mode": {
    "name": "ipython",
    "version": 3
   },
   "file_extension": ".py",
   "mimetype": "text/x-python",
   "name": "python",
   "nbconvert_exporter": "python",
   "pygments_lexer": "ipython3",
   "version": "3.8.13"
  }
 },
 "nbformat": 4,
 "nbformat_minor": 2
}
